{
 "cells": [
  {
   "cell_type": "code",
   "execution_count": 1,
   "id": "48a8176b",
   "metadata": {},
   "outputs": [
    {
     "name": "stderr",
     "output_type": "stream",
     "text": [
      "/Users/kimurashunta/miniforge3/lib/python3.9/site-packages/tqdm/auto.py:22: TqdmWarning: IProgress not found. Please update jupyter and ipywidgets. See https://ipywidgets.readthedocs.io/en/stable/user_install.html\n",
      "  from .autonotebook import tqdm as notebook_tqdm\n"
     ]
    }
   ],
   "source": [
    "import torch\n",
    "import torch.nn as nn"
   ]
  },
  {
   "cell_type": "code",
   "execution_count": 6,
   "id": "1e195b1a",
   "metadata": {},
   "outputs": [],
   "source": [
    "# クラスの作成\n",
    "class SimpleMlp(nn.Module):\n",
    "    def __init__(self, vec_length : int = 16, hidden_unit_1 : int = 8, hidden_unit_2 : int = 2):\n",
    "        super(SimpleMlp, self).__init__()\n",
    "        \n",
    "        #一つ目の線形層\n",
    "        self.layer1 = nn.Linear(vec_length, hidden_unit_1)\n",
    "        \n",
    "        #活性化関数のReLU\n",
    "        self.relu = nn.ReLU()\n",
    "        \n",
    "        #2つ目の線形層\n",
    "        self.layer2 = nn.Linear(hidden_unit_1, hidden_unit_2)\n",
    "        \n",
    "    def forward(self, x : torch.Tensor) -> torch.Tensor:\n",
    "        #一つ目の線形層\n",
    "        out = self.layer1(x)\n",
    "        \n",
    "        #活性化関数のReLU\n",
    "        out = self.relu(out)\n",
    "        \n",
    "        #2つ目の線形層\n",
    "        out = self.layer2(out)\n",
    "        \n",
    "        return out"
   ]
  },
  {
   "cell_type": "code",
   "execution_count": 7,
   "id": "083dba89",
   "metadata": {},
   "outputs": [
    {
     "name": "stdout",
     "output_type": "stream",
     "text": [
      "tensor([[ 6.3595e-01,  1.3799e+00, -1.0112e+00, -6.9602e-01, -3.6055e-01,\n",
      "         -2.5095e-01, -6.0774e-01, -1.1521e+00,  1.3691e+00, -2.3686e-01,\n",
      "         -3.7143e-01, -7.6623e-01, -1.4164e+00, -8.9292e-01, -1.1444e+00,\n",
      "         -3.5624e-01],\n",
      "        [ 4.5792e-01, -8.8352e-02,  1.8231e+00, -7.7185e-01,  7.7075e-01,\n",
      "         -9.2800e-01,  2.7644e+00,  3.7223e-01,  1.8417e+00,  7.2744e-02,\n",
      "         -3.2794e+00, -1.9397e-01,  6.5173e-01, -3.4797e-01,  1.9001e+00,\n",
      "          1.2448e+00],\n",
      "        [ 5.4936e-02, -5.1887e-01, -1.1815e+00, -6.7323e-01, -1.6847e+00,\n",
      "         -9.3889e-01, -1.5008e+00, -8.7823e-01,  1.8391e-03, -5.6590e-01,\n",
      "         -5.6526e-02, -5.5973e-01, -1.4968e+00,  2.8379e-01, -7.8620e-01,\n",
      "          2.7642e-01],\n",
      "        [-1.8648e+00,  1.3868e+00,  1.5848e+00, -1.1260e+00, -3.8556e-01,\n",
      "          2.0117e+00, -1.6177e+00, -7.2882e-01,  7.7673e-01,  1.3244e+00,\n",
      "          1.8651e+00,  4.0264e-01,  5.8199e-02,  3.3680e-01,  1.4359e+00,\n",
      "          3.5854e-03]])\n"
     ]
    }
   ],
   "source": [
    "vec_length = 16\n",
    "hidden_unit_1 = 8\n",
    "hidden_unit_2 = 2\n",
    "\n",
    "batch_size = 4\n",
    "\n",
    "#入力ベクトルの作成\n",
    "x = torch.randn(batch_size, vec_length)\n",
    "\n",
    "print(x)"
   ]
  },
  {
   "cell_type": "code",
   "execution_count": 8,
   "id": "ce299939",
   "metadata": {},
   "outputs": [
    {
     "name": "stdout",
     "output_type": "stream",
     "text": [
      "torch.Size([4, 2])\n",
      "tensor([[ 0.1776, -0.4214],\n",
      "        [-0.0646,  0.1290],\n",
      "        [-0.1085, -0.0330],\n",
      "        [-0.1351,  0.0958]], grad_fn=<AddmmBackward0>)\n"
     ]
    }
   ],
   "source": [
    "# MLPを定義\n",
    "net = SimpleMlp(vec_length , hidden_unit_1, hidden_unit_2)\n",
    "\n",
    "#MLPで順伝搬\n",
    "out = net(x)\n",
    "\n",
    "print(out.shape)\n",
    "print(out)"
   ]
  },
  {
   "cell_type": "code",
   "execution_count": null,
   "id": "60ad5309",
   "metadata": {},
   "outputs": [],
   "source": []
  }
 ],
 "metadata": {
  "kernelspec": {
   "display_name": "Python 3 (ipykernel)",
   "language": "python",
   "name": "python3"
  },
  "language_info": {
   "codemirror_mode": {
    "name": "ipython",
    "version": 3
   },
   "file_extension": ".py",
   "mimetype": "text/x-python",
   "name": "python",
   "nbconvert_exporter": "python",
   "pygments_lexer": "ipython3",
   "version": "3.9.12"
  }
 },
 "nbformat": 4,
 "nbformat_minor": 5
}
